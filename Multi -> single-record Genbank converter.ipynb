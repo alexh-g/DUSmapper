{
 "cells": [
  {
   "cell_type": "code",
   "execution_count": 14,
   "metadata": {},
   "outputs": [],
   "source": [
    "# This script takes all multi-record GenBank files in a directory, and outputs\n",
    "# concatenated single-entry files of the same format. By default, the entries are combined into \n",
    "# a single sequence with 50 \"N\" characters separating each of the original entries, but this\n",
    "# spacer can be adjusted or omitted.\n",
    "\n",
    "# The script was adapted from a ResearchGate post reply by Sanjay Kumar:\n",
    "# https://www.researchgate.net/post/How-can-I-load-a-multi-record-genbank-file-into-Artemis\n",
    "\n",
    "import os\n",
    "import glob\n",
    "from os.path import join, basename, splitext\n",
    "from Bio import SeqIO\n",
    "\n",
    "path = \"/path/to/genome/directory\"    # REPLACE WITH THE DIRECTORY CONTAINING YOUR GENOME FILES. \n",
    "files = join(path, '*.gb*')\n",
    "out_dir = join(path, \"concatenated_seqs\")\n",
    "if not os.path.exists(out_dir):\n",
    "    os.mkdir(out_dir)\n",
    "\n",
    "for filename in glob.glob(files):\n",
    "    file_base = splitext(basename(filename))[0]\n",
    "    already_merged = file_base+\".gb\"\n",
    "    \n",
    "    if not os.path.exists(already_merged):\n",
    "        merged_rec = ''\n",
    "        \n",
    "        for rec in SeqIO.parse(open(filename,\"r\"), \"genbank\") :\n",
    "            # Insert a spacer to preserve contig boundaries:\n",
    "            merged_rec += rec + (\"N\" * 50) \n",
    "            #Or to merge contigs with no spacers:\n",
    "            #merged_rec += rec\n",
    "\n",
    "        merged_rec.id = file_base[:15] #limit id to first 15 characters to prevent error\n",
    "        merged_rec.description = \"merged seq\"\n",
    "        out_file = join(out_dir, file_base+'.gb')\n",
    "        SeqIO.write(merged_rec, out_file, \"genbank\") "
   ]
  }
 ],
 "metadata": {
  "kernelspec": {
   "display_name": "Python 3 (ipykernel)",
   "language": "python",
   "name": "python3"
  },
  "language_info": {
   "codemirror_mode": {
    "name": "ipython",
    "version": 3
   },
   "file_extension": ".py",
   "mimetype": "text/x-python",
   "name": "python",
   "nbconvert_exporter": "python",
   "pygments_lexer": "ipython3",
   "version": "3.9.12"
  }
 },
 "nbformat": 4,
 "nbformat_minor": 1
}
